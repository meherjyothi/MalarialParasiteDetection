{
  "nbformat": 4,
  "nbformat_minor": 0,
  "metadata": {
    "accelerator": "TPU",
    "colab": {
      "name": "Malaria_Detection.ipynb",
      "provenance": [],
      "collapsed_sections": [],
      "authorship_tag": "ABX9TyMsHO0InAe9HRDF2QRGY4rr",
      "include_colab_link": true
    },
    "kernelspec": {
      "display_name": "Python 3",
      "name": "python3"
    },
    "language_info": {
      "name": "python"
    }
  },
  "cells": [
    {
      "cell_type": "markdown",
      "metadata": {
        "id": "view-in-github",
        "colab_type": "text"
      },
      "source": [
        "<a href=\"https://colab.research.google.com/github/meherjyothi/VIT/blob/main/Malaria_Detection.ipynb\" target=\"_parent\"><img src=\"https://colab.research.google.com/assets/colab-badge.svg\" alt=\"Open In Colab\"/></a>"
      ]
    },
    {
      "cell_type": "markdown",
      "metadata": {
        "id": "Jm-j4iAg3WnZ"
      },
      "source": [
        "# MALARIAL PARASITE DETECTION USING DEEP LEARNING"
      ]
    },
    {
      "cell_type": "code",
      "metadata": {
        "id": "o8jdwLQq1zxw"
      },
      "source": [
        "#!pip install tensorflow-gpu==2.0.0-rc0"
      ],
      "execution_count": null,
      "outputs": []
    },
    {
      "cell_type": "code",
      "metadata": {
        "id": "jVaFuwPxp-Ct"
      },
      "source": [
        "#!pip install --upgrade tensorflow-gpu==2.2.0 --user\n",
        "#!pip uninstall tensorflow-datasets\n",
        "#!pip install tensorflow-datasets==4.0.0"
      ],
      "execution_count": null,
      "outputs": []
    },
    {
      "cell_type": "code",
      "metadata": {
        "colab": {
          "base_uri": "https://localhost:8080/"
        },
        "id": "k-xZZWAe4H-C",
        "outputId": "f47cb11c-c170-474c-fbae-b1bbbfdd956a"
      },
      "source": [
        "import tensorflow as tf\n",
        "\n",
        "from tensorflow.keras import Sequential\n",
        "from tensorflow.keras.layers import Flatten, Dense, Conv2D, MaxPool2D,ZeroPadding2D, Dropout\n",
        "from tensorflow.keras.preprocessing.image import ImageDataGenerator\n",
        "from tensorflow.keras import optimizers\n",
        "\n",
        "print(tf.__version__)"
      ],
      "execution_count": null,
      "outputs": [
        {
          "output_type": "stream",
          "text": [
            "2.5.0\n"
          ],
          "name": "stdout"
        }
      ]
    },
    {
      "cell_type": "code",
      "metadata": {
        "id": "Ws_4dNl65FBN"
      },
      "source": [
        "import numpy as np\n",
        "import matplotlib.pyplot as plt "
      ],
      "execution_count": null,
      "outputs": []
    },
    {
      "cell_type": "code",
      "metadata": {
        "id": "aF4w0kLwzgLw"
      },
      "source": [
        ""
      ],
      "execution_count": null,
      "outputs": []
    },
    {
      "cell_type": "markdown",
      "metadata": {
        "id": "m5Xog-Nkzh7A"
      },
      "source": [
        "### LOADING THE DATASET "
      ]
    },
    {
      "cell_type": "code",
      "metadata": {
        "colab": {
          "base_uri": "https://localhost:8080/"
        },
        "id": "JHIsPTkw5PSw",
        "outputId": "2a81d864-2671-4d23-dc97-30896112ff04"
      },
      "source": [
        "!git clone https://github.com/laxmimerit/Malaria-Classification-Using-CNN.git"
      ],
      "execution_count": null,
      "outputs": [
        {
          "output_type": "stream",
          "text": [
            "Cloning into 'Malaria-Classification-Using-CNN'...\n",
            "remote: Enumerating objects: 27577, done.\u001b[K\n",
            "remote: Total 27577 (delta 0), reused 0 (delta 0), pack-reused 27577\u001b[K\n",
            "Receiving objects: 100% (27577/27577), 331.67 MiB | 41.27 MiB/s, done.\n",
            "Resolving deltas: 100% (3/3), done.\n",
            "Checking out files: 100% (27562/27562), done.\n"
          ],
          "name": "stdout"
        }
      ]
    },
    {
      "cell_type": "code",
      "metadata": {
        "id": "CDogoZ5IaWm3"
      },
      "source": [
        ""
      ],
      "execution_count": null,
      "outputs": []
    },
    {
      "cell_type": "markdown",
      "metadata": {
        "id": "cFwWtBjO0bAw"
      },
      "source": [
        "The original dataset can be found on the official NIH Website: https://ceb.nlm.nih.gov/repositories/malaria-datasets/ , also available on kaggle."
      ]
    },
    {
      "cell_type": "markdown",
      "metadata": {
        "id": "c-H23NplIsK1"
      },
      "source": [
        "## IMAGE PREPROCESSING"
      ]
    },
    {
      "cell_type": "code",
      "metadata": {
        "id": "UocmR80b5lmQ"
      },
      "source": [
        "img_width = 64\n",
        "img_height = 64"
      ],
      "execution_count": null,
      "outputs": []
    },
    {
      "cell_type": "code",
      "metadata": {
        "id": "Vu6fpLpc6FQP"
      },
      "source": [
        "datagen = ImageDataGenerator(rescale=1/255.0,\n",
        "                             validation_split=0.2,\n",
        "                             horizontal_flip=True,\n",
        "                             vertical_flip=True,\n",
        "                             #rotation_angle=45,\n",
        "                             shear_range=16\n",
        "                             )"
      ],
      "execution_count": null,
      "outputs": []
    },
    {
      "cell_type": "code",
      "metadata": {
        "colab": {
          "base_uri": "https://localhost:8080/"
        },
        "id": "mt0gcgAc6ZX4",
        "outputId": "a2118499-3baa-4ef0-c100-4c01750a03fd"
      },
      "source": [
        "train_data_generator = datagen.flow_from_directory(directory = '/content/Malaria-Classification-Using-CNN/malaria-dataset', \n",
        "                                                   target_size=(img_width, img_height), \n",
        "                                                   class_mode='binary', \n",
        "                                                   batch_size = 16, \n",
        "                                                   subset = 'training',\n",
        "                                                   #color_mode = 'grayscale',\n",
        "                                                   interpolation = 'nearest',\n",
        "                                                   shuffle=True,\n",
        "                                                   seed=42\n",
        "                                                   \n",
        "                                                   \n",
        "                                                    )"
      ],
      "execution_count": null,
      "outputs": [
        {
          "output_type": "stream",
          "text": [
            "Found 22048 images belonging to 2 classes.\n"
          ],
          "name": "stdout"
        }
      ]
    },
    {
      "cell_type": "code",
      "metadata": {
        "colab": {
          "base_uri": "https://localhost:8080/"
        },
        "id": "ZFCKhAdI7St_",
        "outputId": "25d3b018-cad4-4175-cdd9-c9ab89868615"
      },
      "source": [
        "validation_data_generator = datagen.flow_from_directory(directory = '/content/Malaria-Classification-Using-CNN/malaria-dataset',\n",
        "                                                        target_size=(img_width, img_height), \n",
        "                                                        class_mode='binary',\n",
        "                                                        batch_size = 16, \n",
        "                                                        subset = 'validation' ,\n",
        "                                                        #color_mode = 'grayscale',\n",
        "                                                        interpolation = 'nearest',\n",
        "                                                        shuffle=True,\n",
        "                                                        seed=42                                                       \n",
        "                                                        \n",
        "                                                        )"
      ],
      "execution_count": null,
      "outputs": [
        {
          "output_type": "stream",
          "text": [
            "Found 5510 images belonging to 2 classes.\n"
          ],
          "name": "stdout"
        }
      ]
    },
    {
      "cell_type": "code",
      "metadata": {
        "colab": {
          "base_uri": "https://localhost:8080/"
        },
        "id": "J_BWrDw07xZ2",
        "outputId": "917af254-59bf-4286-a58f-c7d522481b07"
      },
      "source": [
        "train_data_generator.labels"
      ],
      "execution_count": null,
      "outputs": [
        {
          "output_type": "execute_result",
          "data": {
            "text/plain": [
              "array([0, 0, 0, ..., 1, 1, 1], dtype=int32)"
            ]
          },
          "metadata": {
            "tags": []
          },
          "execution_count": 10
        }
      ]
    },
    {
      "cell_type": "code",
      "metadata": {
        "colab": {
          "base_uri": "https://localhost:8080/"
        },
        "id": "p-HBADz5q-cj",
        "outputId": "28ef63be-c3e5-404e-c1fd-91e785c5960a"
      },
      "source": [
        "validation_data_generator.labels"
      ],
      "execution_count": null,
      "outputs": [
        {
          "output_type": "execute_result",
          "data": {
            "text/plain": [
              "array([0, 0, 0, ..., 1, 1, 1], dtype=int32)"
            ]
          },
          "metadata": {
            "tags": []
          },
          "execution_count": 11
        }
      ]
    },
    {
      "cell_type": "code",
      "metadata": {
        "id": "jLmeV5NGVKj2"
      },
      "source": [
        "#from keras.preprocessing.image import load_img ,img_to_array\n",
        "#arr_img = img_to_array(train_data_generator[0])\n",
        "#plt.imshow(arr_img/255)"
      ],
      "execution_count": null,
      "outputs": []
    },
    {
      "cell_type": "markdown",
      "metadata": {
        "id": "jUPVetdJ751D"
      },
      "source": [
        "## CNN MODEL BUILDING"
      ]
    },
    {
      "cell_type": "code",
      "metadata": {
        "id": "xABJPc6X8BBv"
      },
      "source": [
        "model = Sequential()\n",
        "\n",
        "model.add(Conv2D(16, (3,3), input_shape=(img_width,img_height,3) , activation = 'relu' ))  #no of filters. kernel size,..\n",
        "model.add(MaxPool2D(2,2))\n",
        "model.add(Dropout(0.2))\n",
        "\n",
        "model.add(Conv2D(32,(3,3), activation='relu'))\n",
        "model.add(MaxPool2D(2,2))\n",
        "model.add(Dropout(0.3))\n",
        "\n",
        "model.add(Flatten())\n",
        "model.add(Dense(64, activation='relu'))\n",
        "model.add(Dropout(0.5))\n",
        "\n",
        "model.add(Dense(1, activation='sigmoid'))"
      ],
      "execution_count": null,
      "outputs": []
    },
    {
      "cell_type": "code",
      "metadata": {
        "colab": {
          "base_uri": "https://localhost:8080/"
        },
        "id": "CZ_5v54D9v8o",
        "outputId": "c223434a-c9e5-486e-9343-b9e03174262e"
      },
      "source": [
        "model.summary()"
      ],
      "execution_count": null,
      "outputs": [
        {
          "output_type": "stream",
          "text": [
            "Model: \"sequential\"\n",
            "_________________________________________________________________\n",
            "Layer (type)                 Output Shape              Param #   \n",
            "=================================================================\n",
            "conv2d (Conv2D)              (None, 62, 62, 16)        448       \n",
            "_________________________________________________________________\n",
            "max_pooling2d (MaxPooling2D) (None, 31, 31, 16)        0         \n",
            "_________________________________________________________________\n",
            "dropout (Dropout)            (None, 31, 31, 16)        0         \n",
            "_________________________________________________________________\n",
            "conv2d_1 (Conv2D)            (None, 29, 29, 32)        4640      \n",
            "_________________________________________________________________\n",
            "max_pooling2d_1 (MaxPooling2 (None, 14, 14, 32)        0         \n",
            "_________________________________________________________________\n",
            "dropout_1 (Dropout)          (None, 14, 14, 32)        0         \n",
            "_________________________________________________________________\n",
            "flatten (Flatten)            (None, 6272)              0         \n",
            "_________________________________________________________________\n",
            "dense (Dense)                (None, 64)                401472    \n",
            "_________________________________________________________________\n",
            "dropout_2 (Dropout)          (None, 64)                0         \n",
            "_________________________________________________________________\n",
            "dense_1 (Dense)              (None, 1)                 65        \n",
            "=================================================================\n",
            "Total params: 406,625\n",
            "Trainable params: 406,625\n",
            "Non-trainable params: 0\n",
            "_________________________________________________________________\n"
          ],
          "name": "stdout"
        }
      ]
    },
    {
      "cell_type": "code",
      "metadata": {
        "id": "5AQJ0rYl91Ue"
      },
      "source": [
        "model.compile(optimizer='adam', loss='binary_crossentropy', metrics=['accuracy'])"
      ],
      "execution_count": null,
      "outputs": []
    },
    {
      "cell_type": "markdown",
      "metadata": {
        "id": "5dkB0Ep8AjN9"
      },
      "source": [
        ""
      ]
    },
    {
      "cell_type": "code",
      "metadata": {
        "colab": {
          "base_uri": "https://localhost:8080/"
        },
        "id": "1t97utPa-wHU",
        "outputId": "85bac5cf-5ee4-4f21-f268-db25ca722e28"
      },
      "source": [
        "history = model.fit_generator(generator=train_data_generator, \n",
        "                              steps_per_epoch = len(train_data_generator),\n",
        "                              epochs = 7,\n",
        "                              validation_data = validation_data_generator,\n",
        "                              validation_steps = len(validation_data_generator)                             \n",
        "                              )\n"
      ],
      "execution_count": null,
      "outputs": [
        {
          "output_type": "stream",
          "text": [
            "/usr/local/lib/python3.7/dist-packages/tensorflow/python/keras/engine/training.py:1940: UserWarning: `Model.fit_generator` is deprecated and will be removed in a future version. Please use `Model.fit`, which supports generators.\n",
            "  warnings.warn('`Model.fit_generator` is deprecated and '\n"
          ],
          "name": "stderr"
        },
        {
          "output_type": "stream",
          "text": [
            "Epoch 1/7\n",
            "1378/1378 [==============================] - 125s 90ms/step - loss: 0.5556 - accuracy: 0.7152 - val_loss: 0.3144 - val_accuracy: 0.9018\n",
            "Epoch 2/7\n",
            "1378/1378 [==============================] - 124s 90ms/step - loss: 0.2580 - accuracy: 0.9218 - val_loss: 0.2000 - val_accuracy: 0.9323\n",
            "Epoch 3/7\n",
            "1378/1378 [==============================] - 125s 90ms/step - loss: 0.2188 - accuracy: 0.9318 - val_loss: 0.1880 - val_accuracy: 0.9345\n",
            "Epoch 4/7\n",
            "1378/1378 [==============================] - 124s 90ms/step - loss: 0.2047 - accuracy: 0.9380 - val_loss: 0.1697 - val_accuracy: 0.9412\n",
            "Epoch 5/7\n",
            "1378/1378 [==============================] - 123s 89ms/step - loss: 0.1966 - accuracy: 0.9436 - val_loss: 0.1674 - val_accuracy: 0.9421\n",
            "Epoch 6/7\n",
            "1378/1378 [==============================] - 125s 91ms/step - loss: 0.1812 - accuracy: 0.9471 - val_loss: 0.1634 - val_accuracy: 0.9394\n",
            "Epoch 7/7\n",
            "1378/1378 [==============================] - 123s 89ms/step - loss: 0.1711 - accuracy: 0.9488 - val_loss: 0.1587 - val_accuracy: 0.9381\n"
          ],
          "name": "stdout"
        }
      ]
    },
    {
      "cell_type": "code",
      "metadata": {
        "id": "01UiXz2a_gyr",
        "colab": {
          "base_uri": "https://localhost:8080/"
        },
        "outputId": "804b30e1-c568-4308-d394-f6da35af594d"
      },
      "source": [
        "history.history"
      ],
      "execution_count": null,
      "outputs": [
        {
          "output_type": "execute_result",
          "data": {
            "text/plain": [
              "{'accuracy': [0.7152122855186462,\n",
              "  0.9218069911003113,\n",
              "  0.9318305253982544,\n",
              "  0.9380442500114441,\n",
              "  0.9436230063438416,\n",
              "  0.9470700025558472,\n",
              "  0.9488388895988464],\n",
              " 'loss': [0.5556471943855286,\n",
              "  0.25803449749946594,\n",
              "  0.2187868356704712,\n",
              "  0.20472094416618347,\n",
              "  0.1966048926115036,\n",
              "  0.1812317818403244,\n",
              "  0.17106372117996216],\n",
              " 'val_accuracy': [0.901814877986908,\n",
              "  0.9323049187660217,\n",
              "  0.934482753276825,\n",
              "  0.9411978125572205,\n",
              "  0.942105233669281,\n",
              "  0.9393829107284546,\n",
              "  0.9381124973297119],\n",
              " 'val_loss': [0.3144321143627167,\n",
              "  0.19995617866516113,\n",
              "  0.18800078332424164,\n",
              "  0.16970869898796082,\n",
              "  0.16744934022426605,\n",
              "  0.16341115534305573,\n",
              "  0.1587078720331192]}"
            ]
          },
          "metadata": {
            "tags": []
          },
          "execution_count": 17
        }
      ]
    },
    {
      "cell_type": "code",
      "metadata": {
        "id": "c9Hqc7s2AFc2"
      },
      "source": [
        "def plot_learningCurve(history, epoch):\n",
        "  # Plot training & validation accuracy values\n",
        "  epoch_range = range(1, epoch+1)\n",
        "  plt.plot(epoch_range, history.history['accuracy'])\n",
        "  plt.plot(epoch_range, history.history['val_accuracy'])\n",
        "  plt.title('Model accuracy')\n",
        "  plt.ylabel('Accuracy')\n",
        "  plt.xlabel('Epoch')\n",
        "  plt.legend(['Train', 'Val'], loc='upper left')\n",
        "  plt.show()\n",
        "\n",
        "  # Plot training & validation loss values\n",
        "  plt.plot(epoch_range, history.history['loss'])\n",
        "  plt.plot(epoch_range, history.history['val_loss'])\n",
        "  plt.title('Model loss')\n",
        "  plt.ylabel('Loss')\n",
        "  plt.xlabel('Epoch')\n",
        "  plt.legend(['Train', 'Val'], loc='upper left')\n",
        "  plt.show()"
      ],
      "execution_count": null,
      "outputs": []
    },
    {
      "cell_type": "code",
      "metadata": {
        "id": "51td5kHCAFfU",
        "colab": {
          "base_uri": "https://localhost:8080/",
          "height": 573
        },
        "outputId": "95604a49-65a2-4c3e-f5c0-1173e7ea44cb"
      },
      "source": [
        "plot_learningCurve(history, 7)"
      ],
      "execution_count": null,
      "outputs": [
        {
          "output_type": "display_data",
          "data": {
            "image/png": "[encoded data removed]",
            "text/plain": [
              "<Figure size 432x288 with 1 Axes>"
            ]
          },
          "metadata": {
            "tags": [],
            "needs_background": "light"
          }
        },
        {
          "output_type": "display_data",
          "data": {
            "image/png": "[encoded data removed]",
            "text/plain": [
              "<Figure size 432x288 with 1 Axes>"
            ]
          },
          "metadata": {
            "tags": [],
            "needs_background": "light"
          }
        }
      ]
    },
    {
      "cell_type": "code",
      "metadata": {
        "id": "hDo0HOVIUrbm"
      },
      "source": [
        "#import pickle\n",
        "#model.save('basic_cnn.h5')"
      ],
      "execution_count": null,
      "outputs": []
    },
    {
      "cell_type": "code",
      "metadata": {
        "id": "olDiGQPCMsCg"
      },
      "source": [
        "#basic_cnn = tf.keras.models.load_model('./basic_cnn.h5')"
      ],
      "execution_count": null,
      "outputs": []
    },
    {
      "cell_type": "markdown",
      "metadata": {
        "id": "kACm77XXNJJo"
      },
      "source": [
        ""
      ]
    },
    {
      "cell_type": "code",
      "metadata": {
        "id": "7bOgQRJRp9-R"
      },
      "source": [
        ""
      ],
      "execution_count": null,
      "outputs": []
    },
    {
      "cell_type": "markdown",
      "metadata": {
        "id": "PKu8DEPcuadY"
      },
      "source": [
        "### TESTING"
      ]
    },
    {
      "cell_type": "code",
      "metadata": {
        "id": "SmokCa9jpFZs"
      },
      "source": [
        "from tensorflow.keras.preprocessing.image import img_to_array, load_img, array_to_img\n"
      ],
      "execution_count": null,
      "outputs": []
    },
    {
      "cell_type": "code",
      "metadata": {
        "id": "vLjUVvANZFq5"
      },
      "source": [
        "img1=load_img('/content/Malaria-Classification-Using-CNN/malaria-dataset/Parasitized/C100P61ThinF_IMG_20150918_144104_cell_162.png',target_size=(img_width,img_height))\n",
        "img2=load_img('/content/Malaria-Classification-Using-CNN/malaria-dataset/Parasitized/C100P61ThinF_IMG_20150918_144104_cell_163.png',target_size=(img_width,img_height))\n",
        "img3=load_img('/content/Malaria-Classification-Using-CNN/malaria-dataset/Uninfected/C100P61ThinF_IMG_20150918_144104_cell_128.png', target_size=(img_width,img_height))"
      ],
      "execution_count": null,
      "outputs": []
    },
    {
      "cell_type": "code",
      "metadata": {
        "id": "JkHwu2DfbO_n"
      },
      "source": [
        "img1 = load_img('test_1.png', target_size=(img_width,img_height))\n",
        "img2 = load_img('test_2.png', target_size=(img_width,img_height))"
      ],
      "execution_count": null,
      "outputs": []
    },
    {
      "cell_type": "code",
      "metadata": {
        "id": "B-zPjAgPsQZr"
      },
      "source": [
        "x1 = img_to_array(img1)\n",
        "x2 = img_to_array(img2)\n"
      ],
      "execution_count": null,
      "outputs": []
    },
    {
      "cell_type": "code",
      "metadata": {
        "id": "Q34zihP-ZFvc"
      },
      "source": [
        "x1 = x1.reshape((1,) + x1.shape)\n",
        "x2 = x2.reshape((1,) + x2.shape)\n"
      ],
      "execution_count": null,
      "outputs": []
    },
    {
      "cell_type": "code",
      "metadata": {
        "id": "zXGGOEYPZvem"
      },
      "source": [
        "y1 = model.predict(x1)\n",
        "y2 = model.predict(x2)\n"
      ],
      "execution_count": null,
      "outputs": []
    },
    {
      "cell_type": "code",
      "metadata": {
        "colab": {
          "base_uri": "https://localhost:8080/",
          "height": 285
        },
        "id": "Vq37T6HV1sJA",
        "outputId": "5f46d5b3-8b5f-4056-dec4-61141b803df8"
      },
      "source": [
        "plt.imshow(img1)\n",
        "if y1==1:\n",
        "  print('The prediction for image1 is : UNINFECTED')\n",
        "if y1==0:\n",
        "  print('The prediction for image1 is : PARASITIZED')"
      ],
      "execution_count": null,
      "outputs": [
        {
          "output_type": "stream",
          "text": [
            "The prediction for image1 is : PARASITIZED\n"
          ],
          "name": "stdout"
        },
        {
          "output_type": "display_data",
          "data": {
            "image/png": "[encoded data removed]",
            "text/plain": [
              "<Figure size 432x288 with 1 Axes>"
            ]
          },
          "metadata": {
            "tags": [],
            "needs_background": "light"
          }
        }
      ]
    },
    {
      "cell_type": "code",
      "metadata": {
        "colab": {
          "base_uri": "https://localhost:8080/",
          "height": 285
        },
        "id": "N5XYXLpE2Guh",
        "outputId": "c39fd22e-2e66-48c7-a9ee-5ab1216bdeaa"
      },
      "source": [
        "plt.imshow(img2)\n",
        "if y2==1:\n",
        "  print('The prediction for image2 is : UNINFECTED')\n",
        "if y2==0:\n",
        "  print('The prediction for image2 is : PARASITIZED')"
      ],
      "execution_count": null,
      "outputs": [
        {
          "output_type": "stream",
          "text": [
            "The prediction for image2 is : UNINFECTED\n"
          ],
          "name": "stdout"
        },
        {
          "output_type": "display_data",
          "data": {
            "image/png": "[encoded data removed]",
            "text/plain": [
              "<Figure size 432x288 with 1 Axes>"
            ]
          },
          "metadata": {
            "tags": [],
            "needs_background": "light"
          }
        }
      ]
    },
    {
      "cell_type": "code",
      "metadata": {
        "id": "4NZSmYeUsnTp"
      },
      "source": [
        ""
      ],
      "execution_count": null,
      "outputs": []
    }
  ]
}